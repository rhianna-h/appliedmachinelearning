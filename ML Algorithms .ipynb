{
 "cells": [
  {
   "cell_type": "markdown",
   "id": "517ee6af",
   "metadata": {},
   "source": [
    "## Machine Learning Algorithms"
   ]
  },
  {
   "cell_type": "code",
   "execution_count": 1,
   "id": "99e6281c",
   "metadata": {},
   "outputs": [],
   "source": [
    "import numpy as np \n",
    "import pandas as pd \n",
    "import seaborn as sns \n",
    "import matplotlib.pyplot as plt\n",
    "import numpy as np\n",
    "\n",
    "%matplotlib inline\n",
    "from sklearn import linear_model\n",
    "from sklearn import preprocessing\n",
    "from sklearn.model_selection import train_test_split\n",
    "from sklearn.metrics import mean_absolute_error, mean_squared_error"
   ]
  },
  {
   "cell_type": "code",
   "execution_count": 2,
   "id": "4b4fc026",
   "metadata": {},
   "outputs": [],
   "source": [
    "df=pd.read_csv(\"automobile.csv\")\n",
    "df.rename(columns = {'normalized-losses':'normalised_losses', 'num-of-doors':'number_of_doors',\n",
    "                    'wheel-base': 'wheel_base', 'engine-size':'engine_size', 'body_style':'body_style',\n",
    "                    'drive-wheels':'drive_wheels', 'num-of-cylinders': 'num_of_cylinders', \n",
    "                    'fuel-system':'fuel_system', 'compression-ratio':'compression_ratio', 'peak-rpm':'peak_rpm',\n",
    "                    'city-mpg':'city_mpg', 'highway-mpg': 'highway_mpg', 'curb-weight':'curb_weight'}, \n",
    "          inplace = True)"
   ]
  },
  {
   "cell_type": "code",
   "execution_count": 3,
   "id": "72eec898",
   "metadata": {},
   "outputs": [],
   "source": [
    "df.fillna(df.median(), inplace = True)\n",
    "df['number_of_doors'].fillna(df['number_of_doors'].mode().iloc[0], inplace = True)"
   ]
  },
  {
   "cell_type": "code",
   "execution_count": 4,
   "id": "db5b4fd7",
   "metadata": {},
   "outputs": [],
   "source": [
    "idx = 0\n",
    "new_col = df['length'] * df['width'] * df['height']\n",
    "df.insert(loc=idx, column='volume', value=new_col)"
   ]
  },
  {
   "cell_type": "code",
   "execution_count": 5,
   "id": "490d6049",
   "metadata": {},
   "outputs": [
    {
     "data": {
      "text/html": [
       "<div>\n",
       "<style scoped>\n",
       "    .dataframe tbody tr th:only-of-type {\n",
       "        vertical-align: middle;\n",
       "    }\n",
       "\n",
       "    .dataframe tbody tr th {\n",
       "        vertical-align: top;\n",
       "    }\n",
       "\n",
       "    .dataframe thead th {\n",
       "        text-align: right;\n",
       "    }\n",
       "</style>\n",
       "<table border=\"1\" class=\"dataframe\">\n",
       "  <thead>\n",
       "    <tr style=\"text-align: right;\">\n",
       "      <th></th>\n",
       "      <th>volume</th>\n",
       "      <th>symboling</th>\n",
       "      <th>normalised_losses</th>\n",
       "      <th>make</th>\n",
       "      <th>fuel-type</th>\n",
       "      <th>aspiration</th>\n",
       "      <th>number_of_doors</th>\n",
       "      <th>body-style</th>\n",
       "      <th>drive_wheels</th>\n",
       "      <th>engine-location</th>\n",
       "      <th>...</th>\n",
       "      <th>engine_size</th>\n",
       "      <th>fuel_system</th>\n",
       "      <th>bore</th>\n",
       "      <th>stroke</th>\n",
       "      <th>compression_ratio</th>\n",
       "      <th>horsepower</th>\n",
       "      <th>peak_rpm</th>\n",
       "      <th>city_mpg</th>\n",
       "      <th>highway_mpg</th>\n",
       "      <th>price</th>\n",
       "    </tr>\n",
       "  </thead>\n",
       "  <tbody>\n",
       "    <tr>\n",
       "      <th>0</th>\n",
       "      <td>528019.904</td>\n",
       "      <td>3</td>\n",
       "      <td>115.0</td>\n",
       "      <td>alfa-romero</td>\n",
       "      <td>gas</td>\n",
       "      <td>std</td>\n",
       "      <td>two</td>\n",
       "      <td>convertible</td>\n",
       "      <td>rwd</td>\n",
       "      <td>front</td>\n",
       "      <td>...</td>\n",
       "      <td>130</td>\n",
       "      <td>mpfi</td>\n",
       "      <td>3.47</td>\n",
       "      <td>2.68</td>\n",
       "      <td>9.0</td>\n",
       "      <td>111.0</td>\n",
       "      <td>5000.0</td>\n",
       "      <td>21</td>\n",
       "      <td>27</td>\n",
       "      <td>13495</td>\n",
       "    </tr>\n",
       "    <tr>\n",
       "      <th>1</th>\n",
       "      <td>528019.904</td>\n",
       "      <td>3</td>\n",
       "      <td>115.0</td>\n",
       "      <td>alfa-romero</td>\n",
       "      <td>gas</td>\n",
       "      <td>std</td>\n",
       "      <td>two</td>\n",
       "      <td>convertible</td>\n",
       "      <td>rwd</td>\n",
       "      <td>front</td>\n",
       "      <td>...</td>\n",
       "      <td>130</td>\n",
       "      <td>mpfi</td>\n",
       "      <td>3.47</td>\n",
       "      <td>2.68</td>\n",
       "      <td>9.0</td>\n",
       "      <td>111.0</td>\n",
       "      <td>5000.0</td>\n",
       "      <td>21</td>\n",
       "      <td>27</td>\n",
       "      <td>16500</td>\n",
       "    </tr>\n",
       "    <tr>\n",
       "      <th>2</th>\n",
       "      <td>587592.640</td>\n",
       "      <td>1</td>\n",
       "      <td>115.0</td>\n",
       "      <td>alfa-romero</td>\n",
       "      <td>gas</td>\n",
       "      <td>std</td>\n",
       "      <td>two</td>\n",
       "      <td>hatchback</td>\n",
       "      <td>rwd</td>\n",
       "      <td>front</td>\n",
       "      <td>...</td>\n",
       "      <td>152</td>\n",
       "      <td>mpfi</td>\n",
       "      <td>2.68</td>\n",
       "      <td>3.47</td>\n",
       "      <td>9.0</td>\n",
       "      <td>154.0</td>\n",
       "      <td>5000.0</td>\n",
       "      <td>19</td>\n",
       "      <td>26</td>\n",
       "      <td>16500</td>\n",
       "    </tr>\n",
       "    <tr>\n",
       "      <th>3</th>\n",
       "      <td>634816.956</td>\n",
       "      <td>2</td>\n",
       "      <td>164.0</td>\n",
       "      <td>audi</td>\n",
       "      <td>gas</td>\n",
       "      <td>std</td>\n",
       "      <td>four</td>\n",
       "      <td>sedan</td>\n",
       "      <td>fwd</td>\n",
       "      <td>front</td>\n",
       "      <td>...</td>\n",
       "      <td>109</td>\n",
       "      <td>mpfi</td>\n",
       "      <td>3.19</td>\n",
       "      <td>3.40</td>\n",
       "      <td>10.0</td>\n",
       "      <td>102.0</td>\n",
       "      <td>5500.0</td>\n",
       "      <td>24</td>\n",
       "      <td>30</td>\n",
       "      <td>13950</td>\n",
       "    </tr>\n",
       "    <tr>\n",
       "      <th>4</th>\n",
       "      <td>636734.832</td>\n",
       "      <td>2</td>\n",
       "      <td>164.0</td>\n",
       "      <td>audi</td>\n",
       "      <td>gas</td>\n",
       "      <td>std</td>\n",
       "      <td>four</td>\n",
       "      <td>sedan</td>\n",
       "      <td>4wd</td>\n",
       "      <td>front</td>\n",
       "      <td>...</td>\n",
       "      <td>136</td>\n",
       "      <td>mpfi</td>\n",
       "      <td>3.19</td>\n",
       "      <td>3.40</td>\n",
       "      <td>8.0</td>\n",
       "      <td>115.0</td>\n",
       "      <td>5500.0</td>\n",
       "      <td>18</td>\n",
       "      <td>22</td>\n",
       "      <td>17450</td>\n",
       "    </tr>\n",
       "  </tbody>\n",
       "</table>\n",
       "<p>5 rows × 27 columns</p>\n",
       "</div>"
      ],
      "text/plain": [
       "       volume  symboling  normalised_losses         make fuel-type aspiration  \\\n",
       "0  528019.904          3              115.0  alfa-romero       gas        std   \n",
       "1  528019.904          3              115.0  alfa-romero       gas        std   \n",
       "2  587592.640          1              115.0  alfa-romero       gas        std   \n",
       "3  634816.956          2              164.0         audi       gas        std   \n",
       "4  636734.832          2              164.0         audi       gas        std   \n",
       "\n",
       "  number_of_doors   body-style drive_wheels engine-location  ...  engine_size  \\\n",
       "0             two  convertible          rwd           front  ...          130   \n",
       "1             two  convertible          rwd           front  ...          130   \n",
       "2             two    hatchback          rwd           front  ...          152   \n",
       "3            four        sedan          fwd           front  ...          109   \n",
       "4            four        sedan          4wd           front  ...          136   \n",
       "\n",
       "   fuel_system  bore  stroke  compression_ratio horsepower peak_rpm  city_mpg  \\\n",
       "0         mpfi  3.47    2.68                9.0      111.0   5000.0        21   \n",
       "1         mpfi  3.47    2.68                9.0      111.0   5000.0        21   \n",
       "2         mpfi  2.68    3.47                9.0      154.0   5000.0        19   \n",
       "3         mpfi  3.19    3.40               10.0      102.0   5500.0        24   \n",
       "4         mpfi  3.19    3.40                8.0      115.0   5500.0        18   \n",
       "\n",
       "  highway_mpg  price  \n",
       "0          27  13495  \n",
       "1          27  16500  \n",
       "2          26  16500  \n",
       "3          30  13950  \n",
       "4          22  17450  \n",
       "\n",
       "[5 rows x 27 columns]"
      ]
     },
     "execution_count": 5,
     "metadata": {},
     "output_type": "execute_result"
    }
   ],
   "source": [
    "df.head()"
   ]
  },
  {
   "cell_type": "code",
   "execution_count": 275,
   "id": "e6cce3ee",
   "metadata": {},
   "outputs": [],
   "source": [
    "change = preprocessing.LabelEncoder()\n",
    "for name in df.columns:\n",
    "    if df[name].dtypes == 'O':\n",
    "        df[name] = df[name].astype(str)\n",
    "        change.fit(df[name])\n",
    "        df[name] = change.transform(df[name])"
   ]
  },
  {
   "cell_type": "code",
   "execution_count": 276,
   "id": "d0c9f238",
   "metadata": {},
   "outputs": [
    {
     "name": "stdout",
     "output_type": "stream",
     "text": [
      "Top ten Correlated Features with Price:\n",
      "make                 1.000000\n",
      "bore                 0.237813\n",
      "height               0.230754\n",
      "fuel_system          0.144769\n",
      "compression_ratio    0.132554\n",
      "length               0.110468\n",
      "body-style           0.090621\n",
      "wheel_base           0.073930\n",
      "aspiration           0.071254\n",
      "city_mpg             0.065761\n",
      "Name: make, dtype: float64 \n",
      "\n"
     ]
    },
    {
     "data": {
      "text/plain": [
       "(None, None)"
      ]
     },
     "execution_count": 276,
     "metadata": {},
     "output_type": "execute_result"
    }
   ],
   "source": [
    "numeric_cols = df.select_dtypes(include = [np.number])\n",
    "corr = numeric_cols.corr()\n",
    "print ('Top ten Correlated Features with Price:'), print (corr['make'].sort_values(ascending = False)[:10], '\\n')"
   ]
  },
  {
   "cell_type": "code",
   "execution_count": 277,
   "id": "f0e7934f",
   "metadata": {},
   "outputs": [
    {
     "data": {
      "text/plain": [
       "0       0\n",
       "1       0\n",
       "2       0\n",
       "3       1\n",
       "4       1\n",
       "       ..\n",
       "196    21\n",
       "197    21\n",
       "198    21\n",
       "199    21\n",
       "200    21\n",
       "Name: make, Length: 201, dtype: int64"
      ]
     },
     "execution_count": 277,
     "metadata": {},
     "output_type": "execute_result"
    }
   ],
   "source": [
    "df['make']"
   ]
  },
  {
   "cell_type": "code",
   "execution_count": 267,
   "id": "0b07f32b",
   "metadata": {},
   "outputs": [
    {
     "data": {
      "text/plain": [
       "<AxesSubplot:title={'center':'Affect bore has on the make with considerations of price'}, xlabel='make', ylabel='bore'>"
      ]
     },
     "execution_count": 267,
     "metadata": {},
     "output_type": "execute_result"
    },
    {
     "data": {
      "image/png": "[encoded data removed]",
      "text/plain": [
       "<Figure size 432x288 with 1 Axes>"
      ]
     },
     "metadata": {
      "needs_background": "light"
     },
     "output_type": "display_data"
    }
   ],
   "source": [
    "x = df['make']\n",
    "y = df['bore']\n",
    "\n",
    "plt.scatter(x, y)\n",
    "plt.ylabel('bore')\n",
    "plt.xlabel('make ')\n",
    "plt.title('Affect bore has on the make with considerations of price')\n",
    "sns.regplot(x,y)"
   ]
  },
  {
   "cell_type": "code",
   "execution_count": 273,
   "id": "6b2f1899",
   "metadata": {},
   "outputs": [
    {
     "data": {
      "text/plain": [
       "<AxesSubplot:title={'center':'Affect height has on the make'}, xlabel='make', ylabel='height'>"
      ]
     },
     "execution_count": 273,
     "metadata": {},
     "output_type": "execute_result"
    },
    {
     "data": {
      "image/png": "[encoded data removed]",
      "text/plain": [
       "<Figure size 432x288 with 1 Axes>"
      ]
     },
     "metadata": {
      "needs_background": "light"
     },
     "output_type": "display_data"
    }
   ],
   "source": [
    "x = df['make']\n",
    "y = df['height']\n",
    "\n",
    "plt.scatter(x, y)\n",
    "plt.ylabel('height')\n",
    "plt.xlabel('make')\n",
    "plt.title('Affect height has on the make')\n",
    "sns.regplot(x,y)"
   ]
  },
  {
   "cell_type": "code",
   "execution_count": 272,
   "id": "50229ff3",
   "metadata": {},
   "outputs": [
    {
     "data": {
      "text/plain": [
       "<AxesSubplot:xlabel='make', ylabel='fuel_system'>"
      ]
     },
     "execution_count": 272,
     "metadata": {},
     "output_type": "execute_result"
    },
    {
     "data": {
      "image/png": "[encoded data removed]",
      "text/plain": [
       "<Figure size 432x288 with 1 Axes>"
      ]
     },
     "metadata": {
      "needs_background": "light"
     },
     "output_type": "display_data"
    }
   ],
   "source": [
    "x = df['make']\n",
    "y = df['fuel_system']\n",
    "\n",
    "plt.ylabel('Fuel system')\n",
    "plt.xlabel('Make ')\n",
    "plt.scatter(x, y)\n",
    "sns.regplot(x,y)\n",
    "plt.title('Affect fuel system has on the make')"
   ]
  },
  {
   "cell_type": "code",
   "execution_count": 274,
   "id": "d29960b4",
   "metadata": {},
   "outputs": [
    {
     "data": {
      "text/plain": [
       "<AxesSubplot:xlabel='price', ylabel='Density'>"
      ]
     },
     "execution_count": 274,
     "metadata": {},
     "output_type": "execute_result"
    },
    {
     "data": {
      "image/png": "[encoded data removed]",
      "text/plain": [
       "<Figure size 864x432 with 1 Axes>"
      ]
     },
     "metadata": {
      "needs_background": "light"
     },
     "output_type": "display_data"
    }
   ],
   "source": [
    "import warnings\n",
    "import seaborn as sns\n",
    "warnings.simplefilter(action='ignore', category=FutureWarning)\n",
    "#\n",
    "plt.figure(figsize=(12,6))\n",
    "sns.distplot(df['price'], hist=True, kde=True, \n",
    "             bins=int(180/5), color = 'darkblue', \n",
    "             hist_kws={'edgecolor':'black'},\n",
    "             kde_kws={'linewidth': 4})"
   ]
  },
  {
   "cell_type": "markdown",
   "id": "2268d26f",
   "metadata": {},
   "source": [
    "## Linear Regression"
   ]
  },
  {
   "cell_type": "code",
   "execution_count": 243,
   "id": "abb60037",
   "metadata": {},
   "outputs": [],
   "source": [
    "X1a = df.drop(['make'], axis = 1)\n",
    "y1a = df['make']\n",
    "X1a_train, X1a_test, y1a_train, y1a_test = train_test_split(X1a, y1a, test_size = 0.1, random_state = 42)"
   ]
  },
  {
   "cell_type": "code",
   "execution_count": 244,
   "id": "c004bc19",
   "metadata": {},
   "outputs": [],
   "source": [
    "lr = linear_model.LinearRegression()\n",
    "model = lr.fit(X1a_train, y1a_train)"
   ]
  },
  {
   "cell_type": "code",
   "execution_count": 245,
   "id": "f2d7c4d3",
   "metadata": {},
   "outputs": [
    {
     "name": "stdout",
     "output_type": "stream",
     "text": [
      "[11.64621054 -4.73966936  2.37658411  9.55696138 19.47801691 10.3636448\n",
      "  1.65534319 17.45355199 10.43887033 -0.07984193  9.50910866 18.6135608\n",
      " 17.90122426  7.61661672 10.59634373 15.27544765 12.33758029 11.68932073\n",
      "  9.37582634  7.21792559 14.81421788]\n"
     ]
    }
   ],
   "source": [
    "y1a_pred = model.predict(X1a_test)\n",
    "print(y1a_pred)"
   ]
  },
  {
   "cell_type": "code",
   "execution_count": 278,
   "id": "85055f17",
   "metadata": {},
   "outputs": [
    {
     "data": {
      "image/png": "[encoded data removed]",
      "text/plain": [
       "<Figure size 1296x720 with 1 Axes>"
      ]
     },
     "metadata": {
      "needs_background": "light"
     },
     "output_type": "display_data"
    }
   ],
   "source": [
    "plt.figure(figsize=(18,10))\n",
    "\n",
    "x = range(len(y1a_test))\n",
    "plt.plot(x, y1a_test, label=\"Original Data\")\n",
    "plt.plot(x,y1a_pred, label=\"Predicted\")\n",
    "\n",
    "plt.title(\"Actual Make sales vs Predicted Sales data\", size=22)\n",
    "plt.legend()\n",
    "plt.show()"
   ]
  },
  {
   "cell_type": "markdown",
   "id": "da0c8fed",
   "metadata": {},
   "source": [
    "### LR Scores"
   ]
  },
  {
   "cell_type": "code",
   "execution_count": 279,
   "id": "3ed577cf",
   "metadata": {},
   "outputs": [],
   "source": [
    "from sklearn.metrics import r2_score\n",
    "from sklearn.metrics import mean_squared_error"
   ]
  },
  {
   "cell_type": "code",
   "execution_count": 280,
   "id": "2a9a2e65",
   "metadata": {},
   "outputs": [],
   "source": [
    "r2score_lrw = r2_score(y1a_test,y1a_pred)\n",
    "s = model.score(X1a_test, y1a_test)\n",
    "y1a_pred = model.predict(X1a_test)"
   ]
  },
  {
   "cell_type": "code",
   "execution_count": 281,
   "id": "dc45c809",
   "metadata": {
    "scrolled": true
   },
   "outputs": [
    {
     "name": "stdout",
     "output_type": "stream",
     "text": [
      "R2 score is  0.38762780651993356\n",
      "Mean Absolute Error: 3.560065566218204\n",
      "Mean Squared Error: 18.81551750942154\n",
      "Root Mean Squared Error: 4.337685731979847\n"
     ]
    }
   ],
   "source": [
    "print('R2 score is ',r2score_lrw)\n",
    "print('Mean Absolute Error:', metrics.mean_absolute_error(y1a_test, y1a_pred))  \n",
    "print('Mean Squared Error:', metrics.mean_squared_error(y1a_test, y1a_pred))  \n",
    "print('Root Mean Squared Error:', np.sqrt(metrics.mean_squared_error(y1a_test, y1a_pred)))"
   ]
  },
  {
   "cell_type": "markdown",
   "id": "2e37b24c",
   "metadata": {},
   "source": [
    "#### Without outliers"
   ]
  },
  {
   "cell_type": "code",
   "execution_count": 282,
   "id": "806d65d2",
   "metadata": {},
   "outputs": [],
   "source": [
    "df2 = pd.read_csv(\"automobile.csv\")"
   ]
  },
  {
   "cell_type": "code",
   "execution_count": 240,
   "id": "db9859c2",
   "metadata": {},
   "outputs": [],
   "source": [
    "change = preprocessing.LabelEncoder()\n",
    "for name in df2.columns:\n",
    "    if df2[name].dtypes == 'O':\n",
    "        df2[name] = df2[name].astype(str)\n",
    "        change.fit(df2[name])\n",
    "        df2[name] = change.transform(df2[name])"
   ]
  },
  {
   "cell_type": "code",
   "execution_count": 241,
   "id": "3db220cc",
   "metadata": {},
   "outputs": [
    {
     "name": "stdout",
     "output_type": "stream",
     "text": [
      "Top ten Uncorrelated Features with Price:\n",
      "compression-ratio    0.071107\n",
      "num-of-cylinders     0.005509\n",
      "num-of-doors        -0.047087\n",
      "body-style          -0.072933\n",
      "symboling           -0.082391\n",
      "peak-rpm            -0.101649\n",
      "fuel-type           -0.110326\n",
      "make                -0.163646\n",
      "city-mpg            -0.686571\n",
      "highway-mpg         -0.704692\n",
      "Name: price, dtype: float64\n"
     ]
    },
    {
     "data": {
      "text/plain": [
       "(None, None)"
      ]
     },
     "execution_count": 241,
     "metadata": {},
     "output_type": "execute_result"
    }
   ],
   "source": [
    "numeric_cols = df2.select_dtypes(include = [np.number])\n",
    "corr = numeric_cols.corr()\n",
    "print('Top ten Uncorrelated Features with Price:'), print (corr['price'].sort_values(ascending = False)[-10:])"
   ]
  },
  {
   "cell_type": "code",
   "execution_count": 242,
   "id": "064790ca",
   "metadata": {},
   "outputs": [],
   "source": [
    "df2 = df2.dropna()"
   ]
  },
  {
   "cell_type": "code",
   "execution_count": 252,
   "id": "408bfcb3",
   "metadata": {},
   "outputs": [],
   "source": [
    "X1b = df2.drop(['make'], axis = 1)\n",
    "y1b = df2['make']\n",
    "X1b_train, X1b_test, y1b_train, y1b_test = train_test_split(X1b, y1b, test_size = 0.1, random_state = 42)"
   ]
  },
  {
   "cell_type": "code",
   "execution_count": 253,
   "id": "6be76a7c",
   "metadata": {},
   "outputs": [],
   "source": [
    "lr2 = linear_model.LinearRegression()\n",
    "model = lr2.fit(X1b_train, y1b_train)\n",
    "y1b_pred = model.predict(X1b_test)"
   ]
  },
  {
   "cell_type": "code",
   "execution_count": 254,
   "id": "e4e8272a",
   "metadata": {},
   "outputs": [],
   "source": [
    "r2score_lrwo = r2_score(y1b_test,y1b_pred)"
   ]
  },
  {
   "cell_type": "code",
   "execution_count": 299,
   "id": "0729250e",
   "metadata": {},
   "outputs": [
    {
     "name": "stdout",
     "output_type": "stream",
     "text": [
      "R2 score is  0.5441473853415693\n"
     ]
    }
   ],
   "source": [
    "print('R2 score is ', r2score_lrwo)"
   ]
  },
  {
   "cell_type": "markdown",
   "id": "ff790802",
   "metadata": {},
   "source": [
    "### Support Vector Machine "
   ]
  },
  {
   "cell_type": "code",
   "execution_count": 113,
   "id": "791750e7",
   "metadata": {},
   "outputs": [],
   "source": [
    "from sklearn.preprocessing import StandardScaler\n",
    "from sklearn.svm import SVC\n",
    "from sklearn.metrics import confusion_matrix\n",
    "from sklearn.metrics import precision_score, recall_score, f1_score, accuracy_score\n",
    "import matplotlib.pyplot as plt"
   ]
  },
  {
   "cell_type": "code",
   "execution_count": 232,
   "id": "4dbe7a45",
   "metadata": {},
   "outputs": [],
   "source": [
    "X2 = df.drop(['make'], axis = 1)\n",
    "y2 = df['make']"
   ]
  },
  {
   "cell_type": "code",
   "execution_count": 233,
   "id": "2c4702cd",
   "metadata": {},
   "outputs": [],
   "source": [
    "X2_train, X2_test, y2_train, y2_test = train_test_split(X2, y2, test_size=0.10, random_state = 42)"
   ]
  },
  {
   "cell_type": "code",
   "execution_count": 234,
   "id": "72885a45",
   "metadata": {},
   "outputs": [],
   "source": [
    "sc = StandardScaler()\n",
    "sc.fit(X2_train)\n",
    "X2_train_ = sc.transform(X2_train)\n",
    "X2_test_ = sc.transform(X2_test)"
   ]
  },
  {
   "cell_type": "code",
   "execution_count": 235,
   "id": "9a98dbe9",
   "metadata": {},
   "outputs": [],
   "source": [
    "svc = SVC()\n",
    "svc.fit(X2_train, y2_train)\n",
    "y2_pred = svc.predict(X2_test)\n",
    "acc_svc = round(svc.score(X2_train, y2_train) * 100, 2)"
   ]
  },
  {
   "cell_type": "code",
   "execution_count": 236,
   "id": "906993bf",
   "metadata": {},
   "outputs": [],
   "source": [
    "r2score_svc = r2_score(y2_test,y2_pred)"
   ]
  },
  {
   "cell_type": "code",
   "execution_count": 261,
   "id": "e8749960",
   "metadata": {},
   "outputs": [
    {
     "name": "stdout",
     "output_type": "stream",
     "text": [
      "R2 score is  -0.08487084870848727\n",
      "Mean Absolute Error: 4.095238095238095\n",
      "Mean Squared Error: 33.333333333333336\n",
      "Root Mean Squared Error: 5.773502691896258\n"
     ]
    }
   ],
   "source": [
    "print('R2 score is ',r2score_svc)\n",
    "print('Mean Absolute Error:', metrics.mean_absolute_error(y2_test, y2_pred))  \n",
    "print('Mean Squared Error:', metrics.mean_squared_error(y2_test, y2_pred))  \n",
    "print('Root Mean Squared Error:', np.sqrt(metrics.mean_squared_error(y2_test, y2_pred)))\n",
    "#print('Accuracy score: ', acc_svc)"
   ]
  },
  {
   "cell_type": "code",
   "execution_count": 285,
   "id": "1303be00",
   "metadata": {},
   "outputs": [
    {
     "name": "stdout",
     "output_type": "stream",
     "text": [
      "Model accuracy score 0.2857\n",
      "Precision Score :  0.2857142857142857\n",
      "Recall Score :  0.2857142857142857\n"
     ]
    }
   ],
   "source": [
    "print('Model accuracy score {0:0.4f}'.format(accuracy_score(y2_test, y2_pred)))\n",
    "print(\"Precision Score : \",precision_score(y2_test, y2_pred, \n",
    "                                           pos_label='positive',\n",
    "                                           average='micro'))\n",
    "print(\"Recall Score : \",recall_score(y2_test, y2_pred, \n",
    "                                           pos_label='positive',\n",
    "                                           average='micro'))"
   ]
  },
  {
   "cell_type": "markdown",
   "id": "71ace2fa",
   "metadata": {},
   "source": [
    "### Random Forest"
   ]
  },
  {
   "cell_type": "code",
   "execution_count": 300,
   "id": "ad3e1dcc",
   "metadata": {},
   "outputs": [],
   "source": [
    "from sklearn import metrics\n",
    "from sklearn.ensemble import RandomForestClassifier"
   ]
  },
  {
   "cell_type": "code",
   "execution_count": 301,
   "id": "b1168352",
   "metadata": {},
   "outputs": [],
   "source": [
    "X3 = df.drop(['make'], axis = 1)\n",
    "y3 = df['make']\n",
    "X3_train, X3_test, y3_train, y3_test = train_test_split(X3, y3, test_size = 0.1, random_state = 42)"
   ]
  },
  {
   "cell_type": "code",
   "execution_count": 302,
   "id": "de01e3a4",
   "metadata": {},
   "outputs": [],
   "source": [
    "clf=RandomForestClassifier(n_estimators=100)\n",
    "\n",
    "clf.fit(X3_train, y3_train)\n",
    "\n",
    "y3_pred=clf.predict(X3_test)\n",
    "#print(y_pred)\n",
    "#print(\"Accuracy:\",metrics.accuracy_score(y1_test, y_pred))"
   ]
  },
  {
   "cell_type": "code",
   "execution_count": 303,
   "id": "93574ea1",
   "metadata": {},
   "outputs": [],
   "source": [
    "r3score_rf = r2_score(y3_test,y3_pred)"
   ]
  },
  {
   "cell_type": "code",
   "execution_count": 304,
   "id": "71f20405",
   "metadata": {},
   "outputs": [],
   "source": [
    "random_forest = RandomForestClassifier(n_estimators=100)\n",
    "random_forest.fit(X3_train, y3_train)\n",
    "y3_pred = random_forest.predict(X3_test)\n",
    "random_forest.score(X3_train, y3_train)\n",
    "acc_random_forest = round(random_forest.score(X3_train, y3_train) * 100, 2)"
   ]
  },
  {
   "cell_type": "code",
   "execution_count": 305,
   "id": "df8d9abc",
   "metadata": {},
   "outputs": [
    {
     "name": "stdout",
     "output_type": "stream",
     "text": [
      "R2 score is  0.8983755925711073\n",
      "Mean Absolute Error: 1.5238095238095237\n",
      "Mean Squared Error: 22.38095238095238\n",
      "Root Mean Squared Error: 4.7308511264837305\n"
     ]
    }
   ],
   "source": [
    "#print(y_pred)\n",
    "#print(\"Accuracy:\",metrics.accuracy_score(y1_test, y_pred))\n",
    "print('R2 score is ',r2score_rf)\n",
    "print('Mean Absolute Error:', metrics.mean_absolute_error(y3_test, y3_pred))  \n",
    "print('Mean Squared Error:', metrics.mean_squared_error(y3_test, y3_pred))  \n",
    "print('Root Mean Squared Error:', np.sqrt(metrics.mean_squared_error(y3_test, y3_pred)))"
   ]
  },
  {
   "cell_type": "code",
   "execution_count": 308,
   "id": "854d3db9",
   "metadata": {},
   "outputs": [
    {
     "name": "stdout",
     "output_type": "stream",
     "text": [
      "Model accuracy score 0.8571\n",
      "Precision Score :  0.8571428571428571\n",
      "Recall Score :  0.8571428571428571\n"
     ]
    }
   ],
   "source": [
    "print('Model accuracy score {0:0.4f}'. format(accuracy_score(y3_test, y3_pred)))\n",
    "print(\"Precision Score : \",metrics.precision_score(y3_test, y3_pred, \n",
    "                                           pos_label='positive',\n",
    "                                           average='micro'))\n",
    "print(\"Recall Score : \",metrics.recall_score(y3_test, y3_pred, \n",
    "                                           pos_label='positive',\n",
    "                                           average='micro'))"
   ]
  },
  {
   "cell_type": "code",
   "execution_count": null,
   "id": "07f1a44b",
   "metadata": {},
   "outputs": [],
   "source": [
    "models = pd.DataFrame({\n",
    "    'Model': ['Support Vector Machines', 'KNN', 'Logistic Regression', \n",
    "              'Random Forest', 'Naive Bayes', 'Perceptron', \n",
    "              'Stochastic Gradient Decent', 'Linear SVC', \n",
    "              'Decision Tree'],\n",
    "    'R squared Score': [acc_svc, acc_knn, acc_log, \n",
    "              acc_random_forest, acc_gaussian, acc_perceptron, \n",
    "              acc_sgd, acc_linear_svc, acc_decision_tree],\n",
    "'Mean squared error ': })\n",
    "models.sort_values(by='Score', ascending=False)"
   ]
  },
  {
   "cell_type": "code",
   "execution_count": null,
   "id": "ef78378a",
   "metadata": {},
   "outputs": [],
   "source": []
  },
  {
   "cell_type": "code",
   "execution_count": 287,
   "id": "d03dd92b",
   "metadata": {},
   "outputs": [
    {
     "data": {
      "text/plain": [
       "stroke               0.090517\n",
       "peak_rpm             0.075034\n",
       "normalised_losses    0.070901\n",
       "bore                 0.065317\n",
       "length               0.064068\n",
       "width                0.060122\n",
       "height               0.059336\n",
       "wheel_base           0.057516\n",
       "engine_size          0.056987\n",
       "fuel_system          0.048092\n",
       "curb_weight          0.042862\n",
       "engine-type          0.042744\n",
       "horsepower           0.037143\n",
       "price                0.036221\n",
       "symboling            0.035402\n",
       "compression_ratio    0.032979\n",
       "city_mpg             0.031893\n",
       "highway_mpg          0.027372\n",
       "drive_wheels         0.021886\n",
       "num_of_cylinders     0.021308\n",
       "body-style           0.010227\n",
       "number_of_doors      0.005313\n",
       "aspiration           0.004861\n",
       "fuel-type            0.001271\n",
       "engine-location      0.000629\n",
       "dtype: float64"
      ]
     },
     "execution_count": 287,
     "metadata": {},
     "output_type": "execute_result"
    }
   ],
   "source": [
    "feature_scores = pd.Series(random_forest.feature_importances_, index=X3_train.columns).sort_values(ascending=False)\n",
    "\n",
    "feature_scores"
   ]
  },
  {
   "cell_type": "code",
   "execution_count": 288,
   "id": "1b3fd0a6",
   "metadata": {},
   "outputs": [
    {
     "data": {
      "image/png": "[encoded data removed]",
      "text/plain": [
       "<Figure size 1080x720 with 1 Axes>"
      ]
     },
     "metadata": {
      "needs_background": "light"
     },
     "output_type": "display_data"
    }
   ],
   "source": [
    "x =['stroke','peak_rpm','normalised_losses','bore','length',\n",
    "    'width','height','wheel_base','engine_size','fuel_system',\n",
    "    'curb_weight','engine-type','horsepower','price','symboling',\n",
    "    'compression_ratio','city_mpg','highway_mpg','drive_wheels','num_of_cylinders',\n",
    "    'body-style','number_of_doors','aspiration', 'fuel-type', 'engine-location ' ]\n",
    "plt.figure(figsize=(15,10))\n",
    "plt.barh(x, feature_scores)\n",
    "plt.title('Random Forest Feature Importance')\n",
    "plt.show()"
   ]
  },
  {
   "cell_type": "markdown",
   "id": "78c40802",
   "metadata": {},
   "source": [
    "### KNN"
   ]
  },
  {
   "cell_type": "code",
   "execution_count": 216,
   "id": "7e74eee6",
   "metadata": {},
   "outputs": [],
   "source": [
    "from sklearn.model_selection import train_test_split\n",
    "from sklearn.neighbors import KNeighborsClassifier\n",
    "from sklearn.metrics import accuracy_score\n",
    "from sklearn.preprocessing import StandardScaler"
   ]
  },
  {
   "cell_type": "code",
   "execution_count": 217,
   "id": "918f6080",
   "metadata": {},
   "outputs": [],
   "source": [
    "X4 = df.drop(['make'], axis = 1)\n",
    "y4 = df['make']"
   ]
  },
  {
   "cell_type": "code",
   "execution_count": 218,
   "id": "6cae79cc",
   "metadata": {},
   "outputs": [],
   "source": [
    "X4_train, X4_test, y4_train, y4_test = train_test_split(X4, y4, test_size=0.10, random_state = 42)"
   ]
  },
  {
   "cell_type": "code",
   "execution_count": 225,
   "id": "7b2402e3",
   "metadata": {},
   "outputs": [],
   "source": [
    "knn = KNeighborsClassifier(n_neighbors=2)\n",
    "scaler = StandardScaler()\n",
    "scaler.fit(X4_train)\n",
    "\n",
    "# fit the model\n",
    "knn.fit(X4_train, y4_train)\n",
    "X4_train = scaler.transform(X4_train)\n",
    "X4_test = scaler.transform(X4_test)\n",
    "\n",
    "y4_pred = knn.predict(X4_test)"
   ]
  },
  {
   "cell_type": "code",
   "execution_count": 226,
   "id": "85596f4c",
   "metadata": {},
   "outputs": [],
   "source": [
    "error = []\n",
    "\n",
    "for i in range(1, 100):\n",
    "    knn = KNeighborsClassifier(n_neighbors=i)\n",
    "    knn.fit(X4_train, y4_train)\n",
    "    pred_i = knn.predict(X4_test)\n",
    "    error.append(np.mean(pred_i != y4_test))"
   ]
  },
  {
   "cell_type": "code",
   "execution_count": 227,
   "id": "3d88fa68",
   "metadata": {},
   "outputs": [],
   "source": [
    "r2score_knn = r2_score(y4_test,y4_pred)"
   ]
  },
  {
   "cell_type": "code",
   "execution_count": 228,
   "id": "26ba154f",
   "metadata": {},
   "outputs": [
    {
     "name": "stdout",
     "output_type": "stream",
     "text": [
      "R2 score is  0.24369003690036894\n",
      "Mean Absolute Error: 2.380952380952381\n",
      "Mean Squared Error: 23.238095238095237\n",
      "Root Mean Squared Error: 4.820590756130958\n"
     ]
    }
   ],
   "source": [
    "print('R2 score is ',r2score_knn)\n",
    "print('Mean Absolute Error:', metrics.mean_absolute_error(y4_test, y4_pred))  \n",
    "print('Mean Squared Error:', metrics.mean_squared_error(y4_test, y4_pred))  \n",
    "print('Root Mean Squared Error:', np.sqrt(metrics.mean_squared_error(y4_test, y4_pred)))"
   ]
  },
  {
   "cell_type": "code",
   "execution_count": 284,
   "id": "9ad75f55",
   "metadata": {},
   "outputs": [
    {
     "name": "stdout",
     "output_type": "stream",
     "text": [
      "Model accuracy score 0.6667\n",
      "Precision Score :  0.6666666666666666\n",
      "Recall Score :  0.6666666666666666\n"
     ]
    }
   ],
   "source": [
    "print('Model accuracy score {0:0.4f}'. format(accuracy_score(y4_test, y4_pred)))\n",
    "print(\"Precision Score : \",precision_score(y4_test, y4_pred, \n",
    "                                           pos_label='positive',\n",
    "                                           average='micro'))\n",
    "print(\"Recall Score : \",recall_score(y4_test, y4_pred, \n",
    "                                           pos_label='positive',\n",
    "                                           average='micro'))"
   ]
  },
  {
   "cell_type": "code",
   "execution_count": null,
   "id": "8c44fe96",
   "metadata": {},
   "outputs": [],
   "source": []
  },
  {
   "cell_type": "code",
   "execution_count": 15,
   "id": "c1f3d517",
   "metadata": {
    "scrolled": true
   },
   "outputs": [
    {
     "data": {
      "image/png": "[encoded data removed]",
      "text/plain": [
       "<Figure size 1080x576 with 2 Axes>"
      ]
     },
     "metadata": {},
     "output_type": "display_data"
    }
   ],
   "source": [
    "corr = df.corr()\n",
    "plt.figure(figsize=(15,8))\n",
    "a = sns.heatmap(corr, annot=True)"
   ]
  }
 ],
 "metadata": {
  "kernelspec": {
   "display_name": "Python 3",
   "language": "python",
   "name": "python3"
  },
  "language_info": {
   "codemirror_mode": {
    "name": "ipython",
    "version": 3
   },
   "file_extension": ".py",
   "mimetype": "text/x-python",
   "name": "python",
   "nbconvert_exporter": "python",
   "pygments_lexer": "ipython3",
   "version": "3.8.8"
  }
 },
 "nbformat": 4,
 "nbformat_minor": 5
}
